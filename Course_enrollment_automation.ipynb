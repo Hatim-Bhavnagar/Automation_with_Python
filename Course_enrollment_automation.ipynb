{
  "nbformat": 4,
  "nbformat_minor": 0,
  "metadata": {
    "colab": {
      "provenance": [],
      "authorship_tag": "ABX9TyPbRrX5vub3rz8bk/rQQaUt",
      "include_colab_link": true
    },
    "kernelspec": {
      "name": "python3",
      "display_name": "Python 3"
    },
    "language_info": {
      "name": "python"
    }
  },
  "cells": [
    {
      "cell_type": "markdown",
      "metadata": {
        "id": "view-in-github",
        "colab_type": "text"
      },
      "source": [
        "<a href=\"https://colab.research.google.com/github/Hatim-Bhavnagar/Automation_with_Python/blob/main/Course_enrollment_automation.ipynb\" target=\"_parent\"><img src=\"https://colab.research.google.com/assets/colab-badge.svg\" alt=\"Open In Colab\"/></a>"
      ]
    },
    {
      "cell_type": "markdown",
      "source": [
        "This exercise shows your ability to read and manipulate data from an Excel file.\n",
        "\n",
        "\n",
        "\n",
        "On your own form: Fill in and submit at least 5 sample entries\n",
        "\n",
        "Download your submissions as an Excel file as well as the Excel_tools folder\n",
        "\n",
        "Create some code that checks:\n",
        "\n",
        "Which email addresses are valid?\n",
        "\n",
        "How many people need MS Office (don't already have it)?\n",
        "\n",
        "For the people who can't make the date, what dates can they make?\n",
        "\n",
        "Save and upload your code here.\n"
      ],
      "metadata": {
        "id": "b9xiZ5VyZqL9"
      }
    },
    {
      "cell_type": "code",
      "source": [
        "from excel_tools import read_sheet\n",
        "import re\n",
        "\n",
        "fields = ['ID', 'Start_time', 'Completion_time', 'User_Email', 'Name', 'Last_modified_time', 'full_name', 'Need_365', 'Mac_or_PC', 'Moodle_Email', 'Attending', 'Alternative','Local_authority','postcode','Neurodivergent','Woman','Black_asian','disabled','refugee']\n",
        "regex = r'\\b[A-Za-z0-9._%+-]+@[A-Za-z0-9.-]+\\.[A-Z|a-z]{2,7}\\b'\n",
        "\n",
        "subs = read_sheet('sample_data/submissions.xlsx', fields = fields)\n",
        "\n",
        "print(\"List of Student who cannot attend :\")\n",
        "for sub in subs:\n",
        "    if(re.fullmatch(regex, sub.Moodle_Email)):\n",
        "      if sub.Attending == 'No':\n",
        "          print('Name:', sub.full_name)\n",
        "          print('Email:', sub.Moodle_Email)\n",
        "          print('Alternative:', sub.Alternative)\n",
        "\n",
        "print(\"\\n\")\n",
        "print(\"List of Student who attend :\")\n",
        "for sub in subs:\n",
        "    if(re.fullmatch(regex, sub.Moodle_Email)):\n",
        "      if sub.Attending == 'Yes':\n",
        "          print('Name:', sub.full_name)\n",
        "          print('Email:', sub.Moodle_Email)\n",
        "          print('Alternative:', sub.Alternative)"
      ],
      "metadata": {
        "id": "RclbmIlCZt9I",
        "colab": {
          "base_uri": "https://localhost:8080/"
        },
        "outputId": "bfd80e76-d06d-40e1-f896-3ecadae6a1b9"
      },
      "execution_count": null,
      "outputs": [
        {
          "output_type": "stream",
          "name": "stdout",
          "text": [
            "List of Student who cannot attend :\n",
            "Name: Aleef Bhavnagar\n",
            "Email: hatimuk2023@gmail.com\n",
            "Alternative: November\n",
            "\n",
            "\n",
            "List of Student who attend :\n",
            "Name: Hatim B\n",
            "Email: hatimb2023@gmail.com\n",
            "Alternative: None\n",
            "Name: Insiya B\n",
            "Email: insiya2023@gmail.com\n",
            "Alternative: None\n"
          ]
        }
      ]
    },
    {
      "cell_type": "markdown",
      "source": [
        "Modularizing the code to make further readable"
      ],
      "metadata": {
        "id": "nuS_HAzKS9jl"
      }
    },
    {
      "cell_type": "markdown",
      "source": [
        "Cleaning the data further using strip() function.\n",
        "\n",
        "Separating valid and invalid email by with comparing with the permissible domain list , if the email address is in the valid format."
      ],
      "metadata": {
        "id": "gRkh_K5janRk"
      }
    },
    {
      "cell_type": "code",
      "source": [
        "from excel_tools import read_sheet\n",
        "import re\n",
        "\n",
        "def clean_data(data):\n",
        "    data = data.strip()\n",
        "    return data\n",
        "\n",
        "def validate_email1(email_address):\n",
        "    regex = r'\\b[A-Za-z0-9._%+-]+@[A-Za-z0-9.-]+\\.[A-Z|a-z]{2,7}\\b'\n",
        "    if(re.fullmatch(regex, email_address)):\n",
        "        return True\n",
        "    else:\n",
        "        return False\n",
        "\n",
        "def validate_domain(email_address):\n",
        "    domains = ['.org', '.com', '.scot', '.co.uk']\n",
        "\n",
        "    for domain in domains:\n",
        "        if domain in email_address:\n",
        "            return True\n",
        "    return False\n",
        "\n",
        "valids = []\n",
        "invalids = []\n",
        "\n",
        "fields = ['ID', 'Start_time', 'Completion_time', 'User_Email', 'Name', 'Last_modified_time', 'full_name', 'Need_365', 'Mac_or_PC', 'Moodle_Email', 'Attending', 'Alternative','Local_authority','postcode','Neurodivergent','Woman','Black_asian','disabled','refugee']\n",
        "\n",
        "subs = read_sheet('sample_data/submissions.xlsx', fields = fields)\n",
        "\n",
        "for sub in subs:\n",
        "    #cleaning the data\n",
        "    full_name = clean_data(sub.full_name)\n",
        "    sub.full_name = full_name\n",
        "    Moodle_Email = clean_data(sub.Moodle_Email)\n",
        "    sub.Moodle_Email =\n",
        "\n",
        "    #Validating the email\n",
        "    if(validate_email1(Moodle_Email)): # validate email as proper format like 'abc@test.com'\n",
        "      if(validate_domain(Moodle_Email)): #validate email domain is a valid one\n",
        "        valids.append(sub)\n",
        "      else:\n",
        "        invalids.append(sub)\n",
        "    else :  invalids.append(sub)\n",
        "\n",
        "print(\"\\n\")\n",
        "print(\"List of Student wtih valid email :\")\n",
        "print(valids)\n",
        "print(\"\\n\")\n",
        "print(\"List of Student wtih invalid email :\")\n",
        "print(invalids)\n"
      ],
      "metadata": {
        "colab": {
          "base_uri": "https://localhost:8080/"
        },
        "id": "rmsdG9YoSsSi",
        "outputId": "4fa4cdd0-fd7a-4dbf-a250-899b014f11f7"
      },
      "execution_count": null,
      "outputs": [
        {
          "output_type": "stream",
          "name": "stdout",
          "text": [
            "\n",
            "\n",
            "List of Student wtih valid email :\n",
            "[Row(ID=1, Start_time=datetime.datetime(2025, 8, 5, 22, 9, 1), Completion_time=datetime.datetime(2025, 8, 5, 22, 12, 26), User_Email='anonymous', Name=None, Last_modified_time=None, full_name='Hatim B', Need_365='No', Mac_or_PC='PC', Moodle_Email='hatimb2023@gmail.com', Attending='Yes', Alternative=None, Local_authority='Dundee City', postcode='DD4 6PW', Neurodivergent='No', Woman='No', Black_asian='No', disabled='No', refugee='No'), Row(ID=2, Start_time=datetime.datetime(2025, 8, 5, 22, 12, 29), Completion_time=datetime.datetime(2025, 8, 5, 22, 14, 2), User_Email='anonymous', Name=None, Last_modified_time=None, full_name='Insiya B', Need_365='Yes', Mac_or_PC='MAC', Moodle_Email='insiya2023@gmail.com', Attending='Yes', Alternative=None, Local_authority='Dundee Angus', postcode='DD2 1RL', Neurodivergent='No', Woman='Yes', Black_asian='No', disabled='No', refugee='No'), Row(ID=3, Start_time=datetime.datetime(2025, 8, 7, 18, 55, 24), Completion_time=datetime.datetime(2025, 8, 7, 18, 58, 9), User_Email='anonymous', Name=None, Last_modified_time=None, full_name='Aleef Bhavnagar', Need_365='Yes', Mac_or_PC='PC', Moodle_Email='hatimuk2023@gmail.com', Attending='No', Alternative='November', Local_authority='Dundee', postcode='DD11RL', Neurodivergent='No', Woman='Yes', Black_asian='No', disabled='Yes', refugee='No')]\n",
            "\n",
            "\n",
            "List of Student wtih invalid email :\n",
            "[Row(ID=4, Start_time=datetime.datetime(2025, 8, 7, 18, 56, 24), Completion_time=datetime.datetime(2025, 8, 7, 18, 59, 9), User_Email='anonymous', Name=None, Last_modified_time=None, full_name='Zainab K', Need_365='Yes', Mac_or_PC='MAC', Moodle_Email='hatimuk2023@gmail', Attending='No', Alternative='December', Local_authority='Dundee', postcode='DD11RL', Neurodivergent='No', Woman='Yes', Black_asian='No', disabled='Yes', refugee='No'), Row(ID=5, Start_time=datetime.datetime(2025, 8, 7, 18, 57, 24), Completion_time=datetime.datetime(2025, 8, 7, 19, 0, 9), User_Email='anonymous', Name=None, Last_modified_time=None, full_name='Burhan K', Need_365='No', Mac_or_PC='PC', Moodle_Email='Burhan@test1.in', Attending='No', Alternative='December', Local_authority='Dundee', postcode='DD11RL', Neurodivergent='No', Woman='Yes', Black_asian='No', disabled='Yes', refugee='No')]\n"
          ]
        }
      ]
    },
    {
      "cell_type": "markdown",
      "source": [
        "Filter duplicate record in different file\n"
      ],
      "metadata": {
        "id": "f0vhqVYvRthh"
      }
    },
    {
      "cell_type": "code",
      "source": [
        "from excel_tools import read_sheet\n",
        "import re\n",
        "import pandas as pd\n",
        "import openpyxl\n",
        "\n",
        "def clean_data(data):\n",
        "    data = data.strip()\n",
        "    return data\n",
        "\n",
        "def validate_email1(email_address):\n",
        "    regex = r'\\b[A-Za-z0-9._%+-]+@[A-Za-z0-9.-]+\\.[A-Z|a-z]{2,7}\\b'\n",
        "    if(re.fullmatch(regex, email_address)):\n",
        "        return True\n",
        "    else:\n",
        "        return False\n",
        "\n",
        "def validate_domain(email_address):\n",
        "    domains = ['.org', '.com', '.scot', '.co.uk']\n",
        "\n",
        "    for domain in domains:\n",
        "        if domain in email_address:\n",
        "            return True\n",
        "    return False\n",
        "\n",
        "valids = []\n",
        "invalids = []\n",
        "\n",
        "fields = ['ID', 'Start_time', 'Completion_time', 'User_Email', 'Name', 'Last_modified_time', 'full_name', 'Need_365', 'Mac_or_PC', 'Moodle_Email', 'Attending', 'Alternative','Local_authority','postcode','Neurodivergent','Woman','Black_asian','disabled','refugee']\n",
        "\n",
        "subs = read_sheet('sample_data/submissions.xlsx', fields = fields)\n",
        "\n",
        "for sub in subs:\n",
        "    #cleaning the data\n",
        "    full_name = clean_data(sub.full_name)\n",
        "    Moodle_Email = clean_data(sub.Moodle_Email)\n",
        "\n",
        "    #Validating the email\n",
        "    if(validate_email1(Moodle_Email)): # validate email as proper format like 'abc@test.com'\n",
        "      if(validate_domain(Moodle_Email)): #validate email domain is a valid one\n",
        "        valids.append(sub)\n",
        "      else:\n",
        "        invalids.append(sub)\n",
        "    else :  invalids.append(sub)\n",
        "\n",
        "print(\"\\n\")\n",
        "print(\"List of Student wtih valid email :\")\n",
        "print(valids)\n",
        "print(\"\\n\")\n",
        "print(\"List of Student wtih invalid email :\")\n",
        "print(invalids)\n",
        "\n",
        "seen = []\n",
        "duplicates = []\n",
        "non_duplicates = []\n",
        "i = 1\n",
        "for sub in valids:\n",
        "  if i == 1:\n",
        "    seen.append(sub)\n",
        "    non_duplicates.append(sub)\n",
        "    #print(\"\\n\")\n",
        "    #print(i)\n",
        "    #print(\"non_duplicates = \", non_duplicates)\n",
        "    #print(\"duplicates = \", duplicates)\n",
        "    #print(\"seen = \", seen)\n",
        "    i = i + 1\n",
        "  else:\n",
        "    dup = True\n",
        "    #print(\"\\n\")\n",
        "    #print(i)\n",
        "    #print(\"sub = \", sub)\n",
        "    for item in seen:\n",
        "      #print(\"seen item = \", item)\n",
        "      if ( sub.Moodle_Email == item.Moodle_Email\n",
        "        and item.full_name.upper() in sub.full_name.upper()\n",
        "        and sub.postcode == item.postcode ):\n",
        "        non_duplicates.remove(item)\n",
        "        duplicates.append(sub)\n",
        "        duplicates.append(item)\n",
        "        seen.remove(item)\n",
        "        dup = False\n",
        "\n",
        "      i = i + 1\n",
        "    if dup:\n",
        "      non_duplicates.append(sub)\n",
        "      seen.append(sub)\n",
        "    #print(\"non_duplicates = \", non_duplicates)\n",
        "    #print(\"duplicates = \", duplicates)\n",
        "    #print(\"seen = \", seen)\n",
        "\n",
        "print(\"\\n\")\n",
        "print(\"List of non duplicate data wtih valid email :\")\n",
        "print(non_duplicates)\n",
        "print(\"\\n\")\n",
        "print(\"List of duplicate data :\")\n",
        "print(duplicates)\n",
        "\n",
        "output_file = \"duplicates.xlsx\"\n",
        "\n",
        "if duplicates:\n",
        "    new_wb = openpyxl.Workbook()\n",
        "    new_ws = new_wb.active\n",
        "    new_ws.append(fields)  # Add header first\n",
        "\n",
        "    for dup_row in duplicates:\n",
        "        new_ws.append(dup_row)\n",
        "    new_wb.save(output_file)\n",
        "    print(f\"Duplicate rows saved to {output_file}\")\n",
        "else:\n",
        "    print(\"No duplicate rows found.\")\n"
      ],
      "metadata": {
        "id": "nv0CALO2R3Ay",
        "colab": {
          "base_uri": "https://localhost:8080/"
        },
        "outputId": "6dce4717-a872-4925-9892-52869d649d14"
      },
      "execution_count": 39,
      "outputs": [
        {
          "output_type": "stream",
          "name": "stdout",
          "text": [
            "\n",
            "\n",
            "List of Student wtih valid email :\n",
            "[Row(ID=1, Start_time=datetime.datetime(2025, 8, 5, 22, 9, 1), Completion_time=datetime.datetime(2025, 8, 5, 22, 12, 26), User_Email='anonymous', Name=None, Last_modified_time=None, full_name='Hatim B', Need_365='No', Mac_or_PC='PC', Moodle_Email='hatimb2023@gmail.com', Attending='Yes', Alternative=None, Local_authority='Dundee City', postcode='DD4 6PW', Neurodivergent='No', Woman='No', Black_asian='No', disabled='No', refugee='No'), Row(ID=2, Start_time=datetime.datetime(2025, 8, 5, 22, 12, 29), Completion_time=datetime.datetime(2025, 8, 5, 22, 14, 2), User_Email='anonymous', Name=None, Last_modified_time=None, full_name='Insiya B', Need_365='Yes', Mac_or_PC='MAC', Moodle_Email='insiya2023@gmail.com', Attending='Yes', Alternative=None, Local_authority='Dundee Angus', postcode='DD2 1RL', Neurodivergent='No', Woman='Yes', Black_asian='No', disabled='No', refugee='No'), Row(ID=3, Start_time=datetime.datetime(2025, 8, 7, 18, 55, 24), Completion_time=datetime.datetime(2025, 8, 7, 18, 58, 9), User_Email='anonymous', Name=None, Last_modified_time=None, full_name='Aleef Bhavnagar', Need_365='Yes', Mac_or_PC='PC', Moodle_Email='hatimuk2023@gmail.com', Attending='No', Alternative='November', Local_authority='Dundee', postcode='DD11RL', Neurodivergent='No', Woman='Yes', Black_asian='No', disabled='Yes', refugee='No'), Row(ID=6, Start_time=datetime.datetime(2025, 8, 8, 22, 9, 1), Completion_time=datetime.datetime(2025, 8, 8, 22, 12, 26), User_Email='anonymous', Name=None, Last_modified_time=None, full_name='Hatim Bhavnagarwala', Need_365='No', Mac_or_PC='PC', Moodle_Email='hatimb2023@gmail.com', Attending='No', Alternative='December', Local_authority='Dundee City', postcode='DD4 6PW', Neurodivergent='No', Woman='No', Black_asian='No', disabled='No', refugee='No'), Row(ID=7, Start_time=datetime.datetime(2025, 8, 8, 22, 12, 29), Completion_time=datetime.datetime(2025, 8, 8, 22, 14, 2), User_Email='anonymous', Name=None, Last_modified_time=None, full_name='Insiya Bhavnagarwala', Need_365='Yes', Mac_or_PC='MAC', Moodle_Email='insiya2023@gmail.com', Attending='No', Alternative='December', Local_authority='Dundee Angus', postcode='DD2 1RL', Neurodivergent='No', Woman='Yes', Black_asian='No', disabled='No', refugee='No')]\n",
            "\n",
            "\n",
            "List of Student wtih invalid email :\n",
            "[Row(ID=4, Start_time=datetime.datetime(2025, 8, 7, 18, 56, 24), Completion_time=datetime.datetime(2025, 8, 7, 18, 59, 9), User_Email='anonymous', Name=None, Last_modified_time=None, full_name='Zainab K', Need_365='Yes', Mac_or_PC='MAC', Moodle_Email='hatimuk2023@gmail', Attending='No', Alternative='December', Local_authority='Dundee', postcode='DD11RL', Neurodivergent='No', Woman='Yes', Black_asian='No', disabled='Yes', refugee='No'), Row(ID=5, Start_time=datetime.datetime(2025, 8, 7, 18, 57, 24), Completion_time=datetime.datetime(2025, 8, 7, 19, 0, 9), User_Email='anonymous', Name=None, Last_modified_time=None, full_name='Burhan K', Need_365='No', Mac_or_PC='PC', Moodle_Email='Burhan@test1.in', Attending='No', Alternative='December', Local_authority='Dundee', postcode='DD11RL', Neurodivergent='No', Woman='Yes', Black_asian='No', disabled='Yes', refugee='No')]\n",
            "\n",
            "\n",
            "List of non duplicate data wtih valid email :\n",
            "[Row(ID=3, Start_time=datetime.datetime(2025, 8, 7, 18, 55, 24), Completion_time=datetime.datetime(2025, 8, 7, 18, 58, 9), User_Email='anonymous', Name=None, Last_modified_time=None, full_name='Aleef Bhavnagar', Need_365='Yes', Mac_or_PC='PC', Moodle_Email='hatimuk2023@gmail.com', Attending='No', Alternative='November', Local_authority='Dundee', postcode='DD11RL', Neurodivergent='No', Woman='Yes', Black_asian='No', disabled='Yes', refugee='No')]\n",
            "\n",
            "\n",
            "List of duplicate data :\n",
            "[Row(ID=6, Start_time=datetime.datetime(2025, 8, 8, 22, 9, 1), Completion_time=datetime.datetime(2025, 8, 8, 22, 12, 26), User_Email='anonymous', Name=None, Last_modified_time=None, full_name='Hatim Bhavnagarwala', Need_365='No', Mac_or_PC='PC', Moodle_Email='hatimb2023@gmail.com', Attending='No', Alternative='December', Local_authority='Dundee City', postcode='DD4 6PW', Neurodivergent='No', Woman='No', Black_asian='No', disabled='No', refugee='No'), Row(ID=1, Start_time=datetime.datetime(2025, 8, 5, 22, 9, 1), Completion_time=datetime.datetime(2025, 8, 5, 22, 12, 26), User_Email='anonymous', Name=None, Last_modified_time=None, full_name='Hatim B', Need_365='No', Mac_or_PC='PC', Moodle_Email='hatimb2023@gmail.com', Attending='Yes', Alternative=None, Local_authority='Dundee City', postcode='DD4 6PW', Neurodivergent='No', Woman='No', Black_asian='No', disabled='No', refugee='No'), Row(ID=7, Start_time=datetime.datetime(2025, 8, 8, 22, 12, 29), Completion_time=datetime.datetime(2025, 8, 8, 22, 14, 2), User_Email='anonymous', Name=None, Last_modified_time=None, full_name='Insiya Bhavnagarwala', Need_365='Yes', Mac_or_PC='MAC', Moodle_Email='insiya2023@gmail.com', Attending='No', Alternative='December', Local_authority='Dundee Angus', postcode='DD2 1RL', Neurodivergent='No', Woman='Yes', Black_asian='No', disabled='No', refugee='No'), Row(ID=2, Start_time=datetime.datetime(2025, 8, 5, 22, 12, 29), Completion_time=datetime.datetime(2025, 8, 5, 22, 14, 2), User_Email='anonymous', Name=None, Last_modified_time=None, full_name='Insiya B', Need_365='Yes', Mac_or_PC='MAC', Moodle_Email='insiya2023@gmail.com', Attending='Yes', Alternative=None, Local_authority='Dundee Angus', postcode='DD2 1RL', Neurodivergent='No', Woman='Yes', Black_asian='No', disabled='No', refugee='No')]\n",
            "Duplicate rows saved to duplicates.xlsx\n"
          ]
        }
      ]
    }
  ]
}