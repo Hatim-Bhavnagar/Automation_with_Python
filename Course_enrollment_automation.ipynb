{
  "nbformat": 4,
  "nbformat_minor": 0,
  "metadata": {
    "colab": {
      "provenance": [],
      "authorship_tag": "ABX9TyMzzxuI2WfldIc5ag4mwlFD",
      "include_colab_link": true
    },
    "kernelspec": {
      "name": "python3",
      "display_name": "Python 3"
    },
    "language_info": {
      "name": "python"
    }
  },
  "cells": [
    {
      "cell_type": "markdown",
      "metadata": {
        "id": "view-in-github",
        "colab_type": "text"
      },
      "source": [
        "<a href=\"https://colab.research.google.com/github/Hatim-Bhavnagar/Automation_with_Python/blob/main/Course_enrollment_automation.ipynb\" target=\"_parent\"><img src=\"https://colab.research.google.com/assets/colab-badge.svg\" alt=\"Open In Colab\"/></a>"
      ]
    },
    {
      "cell_type": "markdown",
      "source": [
        "This exercise shows your ability to read and manipulate data from an Excel file.\n",
        "\n",
        "\n",
        "\n",
        "On your own form: Fill in and submit at least 5 sample entries\n",
        "\n",
        "Download your submissions as an Excel file as well as the Excel_tools folder\n",
        "\n",
        "Create some code that checks:\n",
        "\n",
        "Which email addresses are valid?\n",
        "\n",
        "How many people need MS Office (don't already have it)?\n",
        "\n",
        "For the people who can't make the date, what dates can they make?\n",
        "\n",
        "Save and upload your code here.\n"
      ],
      "metadata": {
        "id": "b9xiZ5VyZqL9"
      }
    },
    {
      "cell_type": "code",
      "source": [
        "from excel_tools import read_sheet\n",
        "import re\n",
        "\n",
        "fields = ['ID', 'Start_time', 'Completion_time', 'User_Email', 'Name', 'Last_modified_time', 'full_name', 'Need_365', 'Mac_or_PC', 'Moodle_Email', 'Attending', 'Alternative','Local_authority','postcode','Neurodivergent','Woman','Black_asian','disabled','refugee']\n",
        "regex = r'\\b[A-Za-z0-9._%+-]+@[A-Za-z0-9.-]+\\.[A-Z|a-z]{2,7}\\b'\n",
        "\n",
        "subs = read_sheet('sample_data/submissions.xlsx', fields = fields)\n",
        "\n",
        "print(\"List of Student who cannot attend :\")\n",
        "for sub in subs:\n",
        "    if(re.fullmatch(regex, sub.Moodle_Email)):\n",
        "      if sub.Attending == 'No':\n",
        "          print('Name:', sub.full_name)\n",
        "          print('Email:', sub.Moodle_Email)\n",
        "          print('Alternative:', sub.Alternative)\n",
        "\n",
        "print(\"\\n\")\n",
        "print(\"List of Student who attend :\")\n",
        "for sub in subs:\n",
        "    if(re.fullmatch(regex, sub.Moodle_Email)):\n",
        "      if sub.Attending == 'Yes':\n",
        "          print('Name:', sub.full_name)\n",
        "          print('Email:', sub.Moodle_Email)\n",
        "          print('Alternative:', sub.Alternative)"
      ],
      "metadata": {
        "id": "RclbmIlCZt9I",
        "colab": {
          "base_uri": "https://localhost:8080/"
        },
        "outputId": "00301627-a066-44ed-aa11-e6063a45ff7c"
      },
      "execution_count": 53,
      "outputs": [
        {
          "output_type": "stream",
          "name": "stdout",
          "text": [
            "List of Student who cannot attend :\n",
            "Name: Aleef Bhavnagar\n",
            "Email: hatimuk2023@gmail.com\n",
            "Alternative: November\n",
            "\n",
            "\n",
            "List of Student who attend :\n",
            "Name: Hatim B\n",
            "Email: hatimb2023@gmail.com\n",
            "Alternative: None\n",
            "Name: Insiya B\n",
            "Email: insiya2023@gmail.com\n",
            "Alternative: None\n"
          ]
        }
      ]
    }
  ]
}