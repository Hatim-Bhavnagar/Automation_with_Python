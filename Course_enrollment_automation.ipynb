{
  "nbformat": 4,
  "nbformat_minor": 0,
  "metadata": {
    "colab": {
      "provenance": [],
      "authorship_tag": "ABX9TyMYVWaPoLfHQxIiix7sXWli",
      "include_colab_link": true
    },
    "kernelspec": {
      "name": "python3",
      "display_name": "Python 3"
    },
    "language_info": {
      "name": "python"
    }
  },
  "cells": [
    {
      "cell_type": "markdown",
      "metadata": {
        "id": "view-in-github",
        "colab_type": "text"
      },
      "source": [
        "<a href=\"https://colab.research.google.com/github/Hatim-Bhavnagar/Automation_with_Python/blob/main/Course_enrollment_automation.ipynb\" target=\"_parent\"><img src=\"https://colab.research.google.com/assets/colab-badge.svg\" alt=\"Open In Colab\"/></a>"
      ]
    },
    {
      "cell_type": "markdown",
      "source": [
        "This exercise shows your ability to read and manipulate data from an Excel file.\n",
        "\n",
        "\n",
        "\n",
        "On your own form: Fill in and submit at least 5 sample entries\n",
        "\n",
        "Download your submissions as an Excel file as well as the Excel_tools folder\n",
        "\n",
        "Create some code that checks:\n",
        "\n",
        "Which email addresses are valid?\n",
        "\n",
        "How many people need MS Office (don't already have it)?\n",
        "\n",
        "For the people who can't make the date, what dates can they make?\n",
        "\n",
        "Save and upload your code here.\n"
      ],
      "metadata": {
        "id": "b9xiZ5VyZqL9"
      }
    },
    {
      "cell_type": "code",
      "source": [
        "from excel_tools import read_sheet\n",
        "import re\n",
        "\n",
        "fields = ['ID', 'Start_time', 'Completion_time', 'User_Email', 'Name', 'Last_modified_time', 'full_name', 'Need_365', 'Mac_or_PC', 'Moodle_Email', 'Attending', 'Alternative','Local_authority','postcode','Neurodivergent','Woman','Black_asian','disabled','refugee']\n",
        "regex = r'\\b[A-Za-z0-9._%+-]+@[A-Za-z0-9.-]+\\.[A-Z|a-z]{2,7}\\b'\n",
        "\n",
        "subs = read_sheet('sample_data/submissions.xlsx', fields = fields)\n",
        "\n",
        "print(\"List of Student who cannot attend :\")\n",
        "for sub in subs:\n",
        "    if(re.fullmatch(regex, sub.Moodle_Email)):\n",
        "      if sub.Attending == 'No':\n",
        "          print('Name:', sub.full_name)\n",
        "          print('Email:', sub.Moodle_Email)\n",
        "          print('Alternative:', sub.Alternative)\n",
        "\n",
        "print(\"\\n\")\n",
        "print(\"List of Student who attend :\")\n",
        "for sub in subs:\n",
        "    if(re.fullmatch(regex, sub.Moodle_Email)):\n",
        "      if sub.Attending == 'Yes':\n",
        "          print('Name:', sub.full_name)\n",
        "          print('Email:', sub.Moodle_Email)\n",
        "          print('Alternative:', sub.Alternative)"
      ],
      "metadata": {
        "id": "RclbmIlCZt9I",
        "colab": {
          "base_uri": "https://localhost:8080/"
        },
        "outputId": "bfd80e76-d06d-40e1-f896-3ecadae6a1b9"
      },
      "execution_count": 6,
      "outputs": [
        {
          "output_type": "stream",
          "name": "stdout",
          "text": [
            "List of Student who cannot attend :\n",
            "Name: Aleef Bhavnagar\n",
            "Email: hatimuk2023@gmail.com\n",
            "Alternative: November\n",
            "\n",
            "\n",
            "List of Student who attend :\n",
            "Name: Hatim B\n",
            "Email: hatimb2023@gmail.com\n",
            "Alternative: None\n",
            "Name: Insiya B\n",
            "Email: insiya2023@gmail.com\n",
            "Alternative: None\n"
          ]
        }
      ]
    },
    {
      "cell_type": "markdown",
      "source": [
        "Modularizing the code to make further readable"
      ],
      "metadata": {
        "id": "nuS_HAzKS9jl"
      }
    },
    {
      "cell_type": "markdown",
      "source": [
        "Cleaning the data further using strip() function"
      ],
      "metadata": {
        "id": "gRkh_K5janRk"
      }
    },
    {
      "cell_type": "code",
      "source": [
        "from excel_tools import read_sheet\n",
        "import re\n",
        "\n",
        "def validate_email1(email_address):\n",
        "    regex = r'\\b[A-Za-z0-9._%+-]+@[A-Za-z0-9.-]+\\.[A-Z|a-z]{2,7}\\b'\n",
        "    if(re.fullmatch(regex, email_address)):\n",
        "        return True\n",
        "    else:\n",
        "        return False\n",
        "\n",
        "def validate_domain(email_address):\n",
        "    domains = ['.org', '.com', '.scot', '.co.uk']\n",
        "\n",
        "    for domain in domains:\n",
        "        if domain in email_address:\n",
        "            return True\n",
        "    return False\n",
        "\n",
        "valids = []\n",
        "invalids = []\n",
        "\n",
        "fields = ['ID', 'Start_time', 'Completion_time', 'User_Email', 'Name', 'Last_modified_time', 'full_name', 'Need_365', 'Mac_or_PC', 'Moodle_Email', 'Attending', 'Alternative','Local_authority','postcode','Neurodivergent','Woman','Black_asian','disabled','refugee']\n",
        "\n",
        "subs = read_sheet('sample_data/submissions.xlsx', fields = fields)\n",
        "\n",
        "for sub in subs:\n",
        "    full_name = sub.full_name.strip()\n",
        "    Moodle_Email = sub.Moodle_Email.strip()\n",
        "    if(validate_email1(Moodle_Email)): # validate email as proper format like 'abc@test.com'\n",
        "      if(validate_domain(Moodle_Email)): #validate email domain is a valid one\n",
        "        valids.append(sub)\n",
        "      else:\n",
        "        invalids.append(sub)\n",
        "    else :  invalids.append(sub)\n",
        "\n",
        "print(\"\\n\")\n",
        "print(\"List of Student wtih valid email :\")\n",
        "print(valids)\n",
        "print(\"\\n\")\n",
        "print(\"List of Student wtih invalid email :\")\n",
        "print(invalids)\n"
      ],
      "metadata": {
        "colab": {
          "base_uri": "https://localhost:8080/"
        },
        "id": "rmsdG9YoSsSi",
        "outputId": "4fa4cdd0-fd7a-4dbf-a250-899b014f11f7"
      },
      "execution_count": 47,
      "outputs": [
        {
          "output_type": "stream",
          "name": "stdout",
          "text": [
            "\n",
            "\n",
            "List of Student wtih valid email :\n",
            "[Row(ID=1, Start_time=datetime.datetime(2025, 8, 5, 22, 9, 1), Completion_time=datetime.datetime(2025, 8, 5, 22, 12, 26), User_Email='anonymous', Name=None, Last_modified_time=None, full_name='Hatim B', Need_365='No', Mac_or_PC='PC', Moodle_Email='hatimb2023@gmail.com', Attending='Yes', Alternative=None, Local_authority='Dundee City', postcode='DD4 6PW', Neurodivergent='No', Woman='No', Black_asian='No', disabled='No', refugee='No'), Row(ID=2, Start_time=datetime.datetime(2025, 8, 5, 22, 12, 29), Completion_time=datetime.datetime(2025, 8, 5, 22, 14, 2), User_Email='anonymous', Name=None, Last_modified_time=None, full_name='Insiya B', Need_365='Yes', Mac_or_PC='MAC', Moodle_Email='insiya2023@gmail.com', Attending='Yes', Alternative=None, Local_authority='Dundee Angus', postcode='DD2 1RL', Neurodivergent='No', Woman='Yes', Black_asian='No', disabled='No', refugee='No'), Row(ID=3, Start_time=datetime.datetime(2025, 8, 7, 18, 55, 24), Completion_time=datetime.datetime(2025, 8, 7, 18, 58, 9), User_Email='anonymous', Name=None, Last_modified_time=None, full_name='Aleef Bhavnagar', Need_365='Yes', Mac_or_PC='PC', Moodle_Email='hatimuk2023@gmail.com', Attending='No', Alternative='November', Local_authority='Dundee', postcode='DD11RL', Neurodivergent='No', Woman='Yes', Black_asian='No', disabled='Yes', refugee='No')]\n",
            "\n",
            "\n",
            "List of Student wtih invalid email :\n",
            "[Row(ID=4, Start_time=datetime.datetime(2025, 8, 7, 18, 56, 24), Completion_time=datetime.datetime(2025, 8, 7, 18, 59, 9), User_Email='anonymous', Name=None, Last_modified_time=None, full_name='Zainab K', Need_365='Yes', Mac_or_PC='MAC', Moodle_Email='hatimuk2023@gmail', Attending='No', Alternative='December', Local_authority='Dundee', postcode='DD11RL', Neurodivergent='No', Woman='Yes', Black_asian='No', disabled='Yes', refugee='No'), Row(ID=5, Start_time=datetime.datetime(2025, 8, 7, 18, 57, 24), Completion_time=datetime.datetime(2025, 8, 7, 19, 0, 9), User_Email='anonymous', Name=None, Last_modified_time=None, full_name='Burhan K', Need_365='No', Mac_or_PC='PC', Moodle_Email='Burhan@test1.in', Attending='No', Alternative='December', Local_authority='Dundee', postcode='DD11RL', Neurodivergent='No', Woman='Yes', Black_asian='No', disabled='Yes', refugee='No')]\n"
          ]
        }
      ]
    }
  ]
}