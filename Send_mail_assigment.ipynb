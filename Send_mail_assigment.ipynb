{
  "nbformat": 4,
  "nbformat_minor": 0,
  "metadata": {
    "colab": {
      "provenance": [],
      "authorship_tag": "ABX9TyMHnNis9URjeO+kXXq23DnI",
      "include_colab_link": true
    },
    "kernelspec": {
      "name": "python3",
      "display_name": "Python 3"
    },
    "language_info": {
      "name": "python"
    }
  },
  "cells": [
    {
      "cell_type": "markdown",
      "metadata": {
        "id": "view-in-github",
        "colab_type": "text"
      },
      "source": [
        "<a href=\"https://colab.research.google.com/github/Hatim-Bhavnagar/Automation_with_Python/blob/main/Send_mail_assigment.ipynb\" target=\"_parent\"><img src=\"https://colab.research.google.com/assets/colab-badge.svg\" alt=\"Open In Colab\"/></a>"
      ]
    },
    {
      "cell_type": "markdown",
      "source": [
        "FIlter submitted data for duplicate and write in the seperate files"
      ],
      "metadata": {
        "id": "XGh9ED4TTVKp"
      }
    },
    {
      "cell_type": "code",
      "source": [
        "from excel_tools import read_sheet\n",
        "import re\n",
        "import pandas as pd\n",
        "import openpyxl\n",
        "from smtp import send\n",
        "from creds import email, pasw\n",
        "from validate_clean import clean_data, validate_domain, check_student, remove_duplicates\n",
        "\n",
        "#def validate_email(regex, email_address):\n",
        "#    regex = r'\\b[A-Za-z0-9._%+-]+@[A-Za-z0-9.-]+\\.[A-Z|a-z]{2,7}\\b'\n",
        "#    if(re.fullmatch(regex, email_address)):\n",
        "#        return True\n",
        "#    else:\n",
        "#        return False\n",
        "\n",
        "def clean_cohort_data(cohortdata):\n",
        "    regex = r'\\b[A-Za-z0-9._%+-]+@[A-Za-z0-9.-]+\\.[A-Z|a-z]{2,}\\b'\n",
        "    valids = []\n",
        "    invalids = []\n",
        "    #print(\"cohortdata :\", cohortdata)\n",
        "    for cohort in cohortdata:\n",
        "    #cleaning the data\n",
        "      full_name = clean_data(cohort.full_name)\n",
        "      Moodle_Email = clean_data(cohort.Moodle_Email)\n",
        "\n",
        "      #Validating the email\n",
        "      if(re.fullmatch(regex, Moodle_Email)): # validate email as proper format like 'abc@test.com'\n",
        "        if(validate_domain(Moodle_Email)): #validate email domain is a valid one\n",
        "          valids.append(cohort)\n",
        "        else:\n",
        "          invalids.append(cohort)\n",
        "      else :  invalids.append(cohort)\n",
        "\n",
        "    #print(valids)\n",
        "    #print(\"Invalids:\", invalids)\n",
        "\n",
        "    return valids, invalids\n",
        "\n",
        "\n",
        "fields = ['ID', 'Start_time', 'Completion_time', 'User_Email', 'Name', 'Last_modified_time', 'full_name', 'Need_365', 'Mac_or_PC', 'Moodle_Email', 'Attending', 'Alternative','postcode']\n",
        "\n",
        "cohort1 = read_sheet('sample_data/submissions.xlsx', fields = fields)\n",
        "\n",
        "cohort2 = read_sheet('sample_data/submissions 2.xlsx', fields = fields)\n",
        "\n",
        "#print(\"cohort1:\", cohort1)\n",
        "#print(\"\\n\")\n",
        "#print(\"cohort2:\", cohort2)\n",
        "\n",
        "valid_cohort1, invalid_cohort1 = clean_cohort_data(cohort1)\n",
        "valid_cohort2, invalid_cohort2 = clean_cohort_data(cohort2)\n",
        "\n",
        "#print(\"\\n\")\n",
        "#print(\"List of Student wtih valid email  from cohort1:\")\n",
        "#print(valid_cohort1)\n",
        "#print(\"\\n\")\n",
        "#print(\"List of Student wtih valid email from cohort2:\")\n",
        "#print(valid_cohort2)\n",
        "\n",
        "cohort1_wo_dup = remove_duplicates(valid_cohort1)\n",
        "cohort2_wo_dup = remove_duplicates(valid_cohort2)\n",
        "\n",
        "\n",
        "print(\"cohort1 final:\", cohort1_wo_dup)\n",
        "print(\"cohort2 final:\", cohort2_wo_dup)\n",
        "\n",
        "dupes = []\n",
        "cohort1_final = []\n",
        "cohort2_final = []\n",
        "\n",
        "#print(\"\\nCheck cohort1 : \")\n",
        "for student in cohort1_wo_dup:\n",
        "  if check_student(student, cohort2_wo_dup) and not check_student(student,dupes):\n",
        "      dupes.append(student)\n",
        "  else:\n",
        "    if not check_student(student,cohort1_final):\n",
        "      cohort1_final.append(student)\n",
        "\n",
        "#print(\"\\ndupes :\",dupes)\n",
        "#print(\"Check cohort2 : /n\")\n",
        "for student in cohort2_wo_dup:\n",
        "  if not check_student(student, dupes) and not check_student(student,cohort2_final):\n",
        "    cohort2_final.append(student)\n",
        "\n",
        "#print(\"\\ncohort1 final:\", cohort1_final)\n",
        "#print(\"cohort2 final:\", cohort2_final)\n",
        "#print(\"dupes:\", dupes)\n",
        "\n",
        "for dupe in dupes:\n",
        "  if len(cohort1_final) < len(cohort2_final):\n",
        "    cohort1_final.append(dupe)\n",
        "  else:\n",
        "    cohort2_final.append(dupe)\n",
        "\n",
        "print(\"\\ncohort1 final:\", cohort1_final)\n",
        "print(\"cohort2 final:\", cohort2_final)\n",
        "print(\"dupes:\", dupes)\n",
        "\n",
        "for sub in cohort1_final:\n",
        "  send(\n",
        "      sender = email,\n",
        "      app_pass = pasw,\n",
        "      recip = sub.Moodle_Email.upper(),\n",
        "      sub = \"Test Email from Colab\",\n",
        "      body = f\"The list of cohort1 are :\\n{str(cohort1_final)} \\n The list of cohort2 are :\\n {str(cohort2_final)} \\nThe list of dupes are : \\n {str(dupes)}\"\n",
        "  )\n",
        "\n",
        "\n"
      ],
      "metadata": {
        "colab": {
          "base_uri": "https://localhost:8080/"
        },
        "id": "yPOL_8SDTSXH",
        "outputId": "c68dc3ca-473e-4006-dcdc-30712591250e"
      },
      "execution_count": 69,
      "outputs": [
        {
          "output_type": "stream",
          "name": "stdout",
          "text": [
            "cohort1 final: [Row(ID=1, Start_time=datetime.datetime(2025, 8, 5, 22, 9, 1), Completion_time=datetime.datetime(2025, 8, 5, 22, 12, 26), User_Email='anonymous', Name=None, Last_modified_time=None, full_name='Hatim B', Need_365='No', Mac_or_PC='PC', Moodle_Email='hatimb2023@gmail.com', Attending='Yes', Alternative=None, postcode='DD4 6PW'), Row(ID=2, Start_time=datetime.datetime(2025, 8, 5, 22, 12, 29), Completion_time=datetime.datetime(2025, 8, 5, 22, 14, 2), User_Email='anonymous', Name=None, Last_modified_time=None, full_name='Insiya B', Need_365='Yes', Mac_or_PC='MAC', Moodle_Email='insiya2023@gmail.com', Attending='Yes', Alternative=None, postcode='DD2 1RL'), Row(ID=3, Start_time=datetime.datetime(2025, 8, 7, 18, 55, 24), Completion_time=datetime.datetime(2025, 8, 7, 18, 58, 9), User_Email='anonymous', Name=None, Last_modified_time=None, full_name='Aleef Bhavnagar', Need_365='Yes', Mac_or_PC='PC', Moodle_Email='hatimb2211@gmail.com', Attending='No', Alternative='November', postcode='DD11RL')]\n",
            "cohort2 final: [Row(ID=1, Start_time=datetime.datetime(2025, 8, 15, 11, 38, 43), Completion_time=datetime.datetime(2025, 8, 15, 11, 40, 6), User_Email='anonymous', Name=None, Last_modified_time=None, full_name='Zainab K', Need_365='No', Mac_or_PC='PC', Moodle_Email='hatimbhavnagarwalla@gmail.com', Attending='Yes', Alternative='NA', postcode='LE4 7QD'), Row(ID=2, Start_time=datetime.datetime(2025, 8, 15, 11, 40, 12), Completion_time=datetime.datetime(2025, 8, 15, 11, 41, 9), User_Email='anonymous', Name=None, Last_modified_time=None, full_name='Zahra K', Need_365='Yes', Mac_or_PC='PC', Moodle_Email='hatimkool@gmail.com', Attending='Yes', Alternative='NA', postcode='LE5 3AS'), Row(ID=3, Start_time=datetime.datetime(2025, 8, 15, 11, 41, 12), Completion_time=datetime.datetime(2025, 8, 15, 12, 10, 11), User_Email='anonymous', Name=None, Last_modified_time=None, full_name='Burhan K', Need_365='Yes', Mac_or_PC='MAC', Moodle_Email='hatimkool@gmail.com', Attending='Yes', Alternative='NA', postcode='DD1 1RS'), Row(ID=4, Start_time=datetime.datetime(2025, 8, 15, 11, 41, 12), Completion_time=datetime.datetime(2025, 8, 15, 12, 10, 11), User_Email='anonymous', Name=None, Last_modified_time=None, full_name='Hatim Bhavnagarwala', Need_365='No', Mac_or_PC='PC', Moodle_Email='hatimb2023@gmail.com', Attending='Yes', Alternative='December', postcode='DD4 6PW'), Row(ID=5, Start_time=datetime.datetime(2025, 8, 15, 11, 41, 12), Completion_time=datetime.datetime(2025, 8, 15, 12, 10, 11), User_Email='anonymous', Name=None, Last_modified_time=None, full_name='Insiya Bhavnagarwala', Need_365='Yes', Mac_or_PC='MAC', Moodle_Email='insiya2023@gmail.com', Attending='Yes', Alternative='December', postcode='DD2 1RL')]\n",
            "\n",
            "cohort1 final: [Row(ID=3, Start_time=datetime.datetime(2025, 8, 7, 18, 55, 24), Completion_time=datetime.datetime(2025, 8, 7, 18, 58, 9), User_Email='anonymous', Name=None, Last_modified_time=None, full_name='Aleef Bhavnagar', Need_365='Yes', Mac_or_PC='PC', Moodle_Email='hatimb2211@gmail.com', Attending='No', Alternative='November', postcode='DD11RL'), Row(ID=1, Start_time=datetime.datetime(2025, 8, 5, 22, 9, 1), Completion_time=datetime.datetime(2025, 8, 5, 22, 12, 26), User_Email='anonymous', Name=None, Last_modified_time=None, full_name='Hatim B', Need_365='No', Mac_or_PC='PC', Moodle_Email='hatimb2023@gmail.com', Attending='Yes', Alternative=None, postcode='DD4 6PW'), Row(ID=2, Start_time=datetime.datetime(2025, 8, 5, 22, 12, 29), Completion_time=datetime.datetime(2025, 8, 5, 22, 14, 2), User_Email='anonymous', Name=None, Last_modified_time=None, full_name='Insiya B', Need_365='Yes', Mac_or_PC='MAC', Moodle_Email='insiya2023@gmail.com', Attending='Yes', Alternative=None, postcode='DD2 1RL')]\n",
            "cohort2 final: [Row(ID=1, Start_time=datetime.datetime(2025, 8, 15, 11, 38, 43), Completion_time=datetime.datetime(2025, 8, 15, 11, 40, 6), User_Email='anonymous', Name=None, Last_modified_time=None, full_name='Zainab K', Need_365='No', Mac_or_PC='PC', Moodle_Email='hatimbhavnagarwalla@gmail.com', Attending='Yes', Alternative='NA', postcode='LE4 7QD'), Row(ID=2, Start_time=datetime.datetime(2025, 8, 15, 11, 40, 12), Completion_time=datetime.datetime(2025, 8, 15, 11, 41, 9), User_Email='anonymous', Name=None, Last_modified_time=None, full_name='Zahra K', Need_365='Yes', Mac_or_PC='PC', Moodle_Email='hatimkool@gmail.com', Attending='Yes', Alternative='NA', postcode='LE5 3AS'), Row(ID=3, Start_time=datetime.datetime(2025, 8, 15, 11, 41, 12), Completion_time=datetime.datetime(2025, 8, 15, 12, 10, 11), User_Email='anonymous', Name=None, Last_modified_time=None, full_name='Burhan K', Need_365='Yes', Mac_or_PC='MAC', Moodle_Email='hatimkool@gmail.com', Attending='Yes', Alternative='NA', postcode='DD1 1RS')]\n",
            "dupes: [Row(ID=1, Start_time=datetime.datetime(2025, 8, 5, 22, 9, 1), Completion_time=datetime.datetime(2025, 8, 5, 22, 12, 26), User_Email='anonymous', Name=None, Last_modified_time=None, full_name='Hatim B', Need_365='No', Mac_or_PC='PC', Moodle_Email='hatimb2023@gmail.com', Attending='Yes', Alternative=None, postcode='DD4 6PW'), Row(ID=2, Start_time=datetime.datetime(2025, 8, 5, 22, 12, 29), Completion_time=datetime.datetime(2025, 8, 5, 22, 14, 2), User_Email='anonymous', Name=None, Last_modified_time=None, full_name='Insiya B', Need_365='Yes', Mac_or_PC='MAC', Moodle_Email='insiya2023@gmail.com', Attending='Yes', Alternative=None, postcode='DD2 1RL')]\n",
            "Email sent successfully!\n",
            "Email sent successfully!\n",
            "Email sent successfully!\n"
          ]
        }
      ]
    }
  ]
}